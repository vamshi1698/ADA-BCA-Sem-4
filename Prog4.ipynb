{
 "cells": [
  {
   "cell_type": "code",
   "execution_count": 10,
   "metadata": {},
   "outputs": [
    {
     "data": {
      "text/plain": [
       "[2, 4, 21, 23, 32, 52, 61, 63, 214, 234]"
      ]
     },
     "execution_count": 10,
     "metadata": {},
     "output_type": "execute_result"
    }
   ],
   "source": [
    "def selectionSort(array,n):\n",
    "    for i in range(0,n-1):\n",
    "        min_index = i\n",
    "        for j in range(i+1,n):\n",
    "            if array[j] < array[min_index]:\n",
    "                min_index = j\n",
    "        (array[min_index],array[i]) = (array[i],array[min_index])\n",
    "    return array\n",
    "\n",
    "selectionSort([21,214,23,234,2,4,52,61,32,63],10)"
   ]
  }
 ],
 "metadata": {
  "kernelspec": {
   "display_name": "Python 3",
   "language": "python",
   "name": "python3"
  },
  "language_info": {
   "codemirror_mode": {
    "name": "ipython",
    "version": 3
   },
   "file_extension": ".py",
   "mimetype": "text/x-python",
   "name": "python",
   "nbconvert_exporter": "python",
   "pygments_lexer": "ipython3",
   "version": "3.13.0rc2"
  }
 },
 "nbformat": 4,
 "nbformat_minor": 2
}
